{
 "cells": [
  {
   "cell_type": "code",
   "execution_count": 1,
   "metadata": {},
   "outputs": [],
   "source": [
    "people_dict = {'quok': [19.5, 'Sorokin'], 'aspen': [23.4, 'Schuette'], 'tipper': [43.0, 'tipper'], \n",
    "              'patrick': [19.6, 'bjornstad'], 'david': [67.0, 'byrne']}"
   ]
  },
  {
   "cell_type": "code",
   "execution_count": 2,
   "metadata": {},
   "outputs": [
    {
     "data": {
      "text/plain": [
       "{'quok': [19.5, 'Sorokin'],\n",
       " 'aspen': [23.4, 'Schuette'],\n",
       " 'tipper': [43.0, 'tipper'],\n",
       " 'patrick': [19.6, 'bjornstad']}"
      ]
     },
     "execution_count": 2,
     "metadata": {},
     "output_type": "execute_result"
    }
   ],
   "source": [
    "del people_dict['david']\n",
    "people_dict"
   ]
  },
  {
   "cell_type": "code",
   "execution_count": 3,
   "metadata": {},
   "outputs": [
    {
     "data": {
      "text/plain": [
       "{'quok': [19.5, 'Sorokin'],\n",
       " 'aspen': [23.4, 'Schuette'],\n",
       " 'tipper': [43.5, 'tipper'],\n",
       " 'patrick': [19.6, 'bjornstad']}"
      ]
     },
     "execution_count": 3,
     "metadata": {},
     "output_type": "execute_result"
    }
   ],
   "source": [
    "people_dict['tipper'][0] = 43.5\n",
    "people_dict"
   ]
  },
  {
   "cell_type": "code",
   "execution_count": 4,
   "metadata": {},
   "outputs": [],
   "source": [
    "# reset the dictionary to its original state for extra data points\n",
    "people_dict = {'quok': [19.5, 'Sorokin'], 'aspen': [23.4, 'Schuette'], 'tipper': [43.0, 'tipper'], \n",
    "              'patrick': [19.6, 'bjornstad'], 'david': [67.0, 'byrne']}"
   ]
  },
  {
   "cell_type": "code",
   "execution_count": 5,
   "metadata": {},
   "outputs": [
    {
     "data": {
      "text/plain": [
       "[19.5, 23.4, 43.0, 19.6, 67.0]"
      ]
     },
     "execution_count": 5,
     "metadata": {},
     "output_type": "execute_result"
    }
   ],
   "source": [
    "def get_age_list(people_dict):\n",
    "    return [entry[0] for entry in list(people_dict.values())]\n",
    "    \n",
    "ages = get_age_list(people_dict)\n",
    "ages"
   ]
  },
  {
   "cell_type": "code",
   "execution_count": 6,
   "metadata": {},
   "outputs": [],
   "source": [
    "from statistics import mean, median\n",
    "\n",
    "def mean_ages(people_dict):\n",
    "    ages = get_age_list(people_dict)\n",
    "    return mean(ages)\n",
    "\n",
    "def median_ages(people_dict):\n",
    "    ages = get_age_list(people_dict)\n",
    "    return median(ages)\n",
    "    "
   ]
  },
  {
   "cell_type": "code",
   "execution_count": 7,
   "metadata": {},
   "outputs": [
    {
     "data": {
      "text/plain": [
       "34.5"
      ]
     },
     "execution_count": 7,
     "metadata": {},
     "output_type": "execute_result"
    }
   ],
   "source": [
    "mean_ages(people_dict)"
   ]
  },
  {
   "cell_type": "code",
   "execution_count": 8,
   "metadata": {},
   "outputs": [
    {
     "data": {
      "text/plain": [
       "23.4"
      ]
     },
     "execution_count": 8,
     "metadata": {},
     "output_type": "execute_result"
    }
   ],
   "source": [
    "median_ages(people_dict)"
   ]
  },
  {
   "cell_type": "code",
   "execution_count": null,
   "metadata": {},
   "outputs": [],
   "source": []
  }
 ],
 "metadata": {
  "kernelspec": {
   "display_name": "Python [conda env:learn-env] *",
   "language": "python",
   "name": "conda-env-learn-env-py"
  },
  "language_info": {
   "codemirror_mode": {
    "name": "ipython",
    "version": 3
   },
   "file_extension": ".py",
   "mimetype": "text/x-python",
   "name": "python",
   "nbconvert_exporter": "python",
   "pygments_lexer": "ipython3",
   "version": "3.6.6"
  }
 },
 "nbformat": 4,
 "nbformat_minor": 2
}
