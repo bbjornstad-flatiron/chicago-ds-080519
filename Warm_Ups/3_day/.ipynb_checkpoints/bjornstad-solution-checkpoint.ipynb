{
 "cells": [
  {
   "cell_type": "markdown",
   "metadata": {},
   "source": [
    "### Warm Up- Numpy and Functions\n",
    "\n",
    "1. Create a new .py file called number_finder.\n",
    "\n",
    "2. In the number_finder.py file create 2 functions.  The first function (called prime_finder) will select only the prime #'s from a given numpy array.  The second function (called fibonacci_finder) will select only the Fibonacci numbers from a given numpy array.\n",
    " \n",
    "3. Now open a new jupyter notebook.  \n",
    "\n",
    "4. In your jupyter notebook import number_finder.\n",
    "\n",
    "5.  Next create an array called numbers that contains 100 random numbers.\n",
    "\n",
    "6.  Apply both number_finder functions to the array you created to find the prime and fibonacci numbers contained in your array.\n",
    "\n",
    "BONUS\n",
    "\n",
    "Create an additional function to find the tribonacci numbers in your array."
   ]
  },
  {
   "cell_type": "code",
   "execution_count": 16,
   "metadata": {},
   "outputs": [],
   "source": [
    "import number_finder as nf\n",
    "import numpy as np"
   ]
  },
  {
   "cell_type": "code",
   "execution_count": 17,
   "metadata": {},
   "outputs": [
    {
     "name": "stdout",
     "output_type": "stream",
     "text": [
      "[[285  87 140 ... 173 129 225]\n",
      " [ 29  26 155 ... 164 178 167]\n",
      " [252  28 246 ... 264 272 272]\n",
      " ...\n",
      " [ 68  65  75 ... 256 169  15]\n",
      " [ 35  34 177 ... 260 119 192]\n",
      " [155 244  71 ... 266 262 182]]\n"
     ]
    }
   ],
   "source": [
    "numbers = np.random.randint(2, 300, size=(50,50))\n",
    "print(numbers)"
   ]
  },
  {
   "cell_type": "code",
   "execution_count": 18,
   "metadata": {},
   "outputs": [
    {
     "name": "stdout",
     "output_type": "stream",
     "text": [
      "[[  0   0   0 ... 173   0   0]\n",
      " [ 29   0   0 ...   0   0 167]\n",
      " [  0   0   0 ...   0   0   0]\n",
      " ...\n",
      " [  0   0   0 ...   0   0   0]\n",
      " [  0   0   0 ...   0   0   0]\n",
      " [  0   0  71 ...   0   0   0]]\n"
     ]
    }
   ],
   "source": [
    "array_primes = nf.prime_finder(numbers)\n",
    "print(array_primes)"
   ]
  },
  {
   "cell_type": "code",
   "execution_count": 19,
   "metadata": {},
   "outputs": [
    {
     "name": "stdout",
     "output_type": "stream",
     "text": [
      "[[  0   0   0 ... 173   0   0]\n",
      " [ 29   0   0 ...   0   0 167]\n",
      " [  0   0   0 ...   0   0   0]\n",
      " ...\n",
      " [  0   0   0 ...   0   0   0]\n",
      " [  0   0   0 ...   0   0   0]\n",
      " [  0   0  71 ...   0   0   0]]\n"
     ]
    }
   ],
   "source": [
    "array_primes_2 = nf.prime_finder_array(numbers)\n",
    "print(array_primes_2)"
   ]
  },
  {
   "cell_type": "code",
   "execution_count": 20,
   "metadata": {},
   "outputs": [
    {
     "name": "stdout",
     "output_type": "stream",
     "text": [
      "True\n"
     ]
    }
   ],
   "source": [
    "print(np.array_equal(array_primes, array_primes_2))"
   ]
  },
  {
   "cell_type": "code",
   "execution_count": 21,
   "metadata": {},
   "outputs": [
    {
     "name": "stdout",
     "output_type": "stream",
     "text": [
      "[[ 0  0  0 ...  0  0  0]\n",
      " [ 0  0  0 ...  0  0  0]\n",
      " [ 0  0  0 ...  0  0  0]\n",
      " ...\n",
      " [ 0  0  0 ...  0  0  0]\n",
      " [ 0 34  0 ...  0  0  0]\n",
      " [ 0  0  0 ...  0  0  0]]\n"
     ]
    }
   ],
   "source": [
    "print(nf.fibonacci_finder(numbers))"
   ]
  },
  {
   "cell_type": "code",
   "execution_count": null,
   "metadata": {},
   "outputs": [],
   "source": []
  }
 ],
 "metadata": {
  "kernelspec": {
   "display_name": "Python [conda env:learn-env] *",
   "language": "python",
   "name": "conda-env-learn-env-py"
  },
  "language_info": {
   "codemirror_mode": {
    "name": "ipython",
    "version": 3
   },
   "file_extension": ".py",
   "mimetype": "text/x-python",
   "name": "python",
   "nbconvert_exporter": "python",
   "pygments_lexer": "ipython3",
   "version": "3.6.6"
  }
 },
 "nbformat": 4,
 "nbformat_minor": 2
}
