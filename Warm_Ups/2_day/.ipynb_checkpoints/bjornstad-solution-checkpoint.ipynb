{
 "cells": [
  {
   "cell_type": "markdown",
   "metadata": {},
   "source": [
    "#  For loops and alternatives\n",
    "\n",
    "Given an array of integers, return the index of of the target number - try doing it with a for loop. Notice that the target number can repeat several times.\n",
    "\n",
    "\n",
    "### Example:\n",
    "\n",
    "Given nums = [2, 9, 11, 15], target = 9,\n",
    "\n",
    "Because nums[1] = 9\n",
    "\n",
    "return [1]."
   ]
  },
  {
   "cell_type": "code",
   "execution_count": 1,
   "metadata": {},
   "outputs": [],
   "source": [
    "def get_target_index(array, target):\n",
    "    indices = []\n",
    "    for i in range(len(array)):\n",
    "        if array[i] == target:\n",
    "            indices.append(i)\n",
    "    return indices"
   ]
  },
  {
   "cell_type": "code",
   "execution_count": 4,
   "metadata": {},
   "outputs": [
    {
     "name": "stdout",
     "output_type": "stream",
     "text": [
      "[1]\n"
     ]
    }
   ],
   "source": [
    "nums = [2, 9, 11, 15]\n",
    "target = 9\n",
    "print(get_target_index(nums, target))"
   ]
  },
  {
   "cell_type": "markdown",
   "metadata": {},
   "source": [
    " # [optional I] - solve with for loops\n",
    " You have an array of integers, return indices of the two numbers such that they add  to a target.\n",
    "Assume that each input would have exactly one solution, and you may not use the same element twice.\n",
    "Given nums = [2, 7, 11, 15], target = 9,\n",
    "\n",
    "### Example \n",
    "Because nums[0] + nums[1] = 2 + 7 = 9,\n",
    "return [0, 1]."
   ]
  },
  {
   "cell_type": "code",
   "execution_count": 16,
   "metadata": {},
   "outputs": [],
   "source": [
    "def find_sum_indices(array, target):\n",
    "    sort_array = sorted(array)\n",
    "    start, end = 0, -1\n",
    "    total = array[start] + array[end]\n",
    "    while total != target:\n",
    "        if total > target:\n",
    "            end -= 1\n",
    "        elif total < target:\n",
    "            start += 1\n",
    "        total = array[start] + array[end]\n",
    "    return sorted([start, end % len(array)])"
   ]
  },
  {
   "cell_type": "code",
   "execution_count": 17,
   "metadata": {},
   "outputs": [
    {
     "name": "stdout",
     "output_type": "stream",
     "text": [
      "[0, 1]\n"
     ]
    }
   ],
   "source": [
    "nums = [2, 7, 5, 11]\n",
    "target = 9\n",
    "print(find_sum_indices(nums, target))"
   ]
  },
  {
   "cell_type": "code",
   "execution_count": 18,
   "metadata": {},
   "outputs": [
    {
     "name": "stdout",
     "output_type": "stream",
     "text": [
      "[2, 3]\n"
     ]
    }
   ],
   "source": [
    "target = 16\n",
    "print(find_sum_indices(nums, target))"
   ]
  },
  {
   "cell_type": "markdown",
   "metadata": {},
   "source": [
    " # [optional II] - solve the same with only one loop and a dictionary"
   ]
  },
  {
   "cell_type": "code",
   "execution_count": null,
   "metadata": {},
   "outputs": [],
   "source": []
  }
 ],
 "metadata": {
  "kernelspec": {
   "display_name": "Python [conda env:learn-env] *",
   "language": "python",
   "name": "conda-env-learn-env-py"
  },
  "language_info": {
   "codemirror_mode": {
    "name": "ipython",
    "version": 3
   },
   "file_extension": ".py",
   "mimetype": "text/x-python",
   "name": "python",
   "nbconvert_exporter": "python",
   "pygments_lexer": "ipython3",
   "version": "3.6.6"
  }
 },
 "nbformat": 4,
 "nbformat_minor": 2
}
