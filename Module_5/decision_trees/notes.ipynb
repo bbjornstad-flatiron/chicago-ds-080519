{
 "cells": [
  {
   "cell_type": "markdown",
   "metadata": {},
   "source": [
    "## Decision Trees:\n",
    "----\n",
    "Some notes on decision trees\n",
    "\n",
    "Overview:\n",
    "- Highly interpretable\n",
    "  - can easily move down the path of the tree\n",
    "  - good for visualization\n",
    "- Random Forests are an extension of decision trees\n",
    "\n",
    "Today is the theory of decision trees\n",
    "- "
   ]
  },
  {
   "cell_type": "code",
   "execution_count": null,
   "metadata": {},
   "outputs": [],
   "source": []
  }
 ],
 "metadata": {
  "kernelspec": {
   "display_name": "Python 3",
   "language": "python",
   "name": "python3"
  },
  "language_info": {
   "codemirror_mode": {
    "name": "ipython",
    "version": 3
   },
   "file_extension": ".py",
   "mimetype": "text/x-python",
   "name": "python",
   "nbconvert_exporter": "python",
   "pygments_lexer": "ipython3",
   "version": "3.7.3"
  }
 },
 "nbformat": 4,
 "nbformat_minor": 4
}
